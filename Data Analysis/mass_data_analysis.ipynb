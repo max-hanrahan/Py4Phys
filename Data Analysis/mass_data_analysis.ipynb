{
 "cells": [
  {
   "cell_type": "markdown",
   "metadata": {},
   "source": [
    "## Write a script that parses momentum values to determine the mean value of a mass"
   ]
  },
  {
   "cell_type": "code",
   "execution_count": 1,
   "metadata": {},
   "outputs": [],
   "source": [
    "import matplotlib.pyplot as plt\n",
    "import numpy as np\n",
    "# the givens\n",
    "MASS_A = 2\n",
    "MASS_B = 1n",
    "mass_c_vals = [] # becomes a list of calculated masses\n",
    "Nbins = 50 # keep those histograms high-res!"
   ]
  },
  {
   "cell_type": "code",
   "execution_count": 2,
   "metadata": {},
   "outputs": [],
   "source": [
    "def calc_p(arg):\n",
    "    # i know it's gross but it's only written once\n",
    "    return np.sqrt(pow(MASS_A, 2) - 2*MASS_A*np.sqrt(pow(MASS_B, 2)+ pow(arg, 2))+pow(MASS_B, 2))"
   ]
  },
  {
   "cell_type": "code",
   "execution_count": 3,
   "metadata": {},
   "outputs": [
    {
     "name": "stdout",
     "output_type": "stream",
     "text": [
      "Mean mass: 0.8600279350850656 kg\n",
      "StDev: 0.0006733286393718619 kg\n"
     ]
    },
    {
     "data": {
      "image/png": "[encoded data removed]",
      "text/plain": [
       "<Figure size 432x288 with 2 Axes>"
      ]
     },
     "metadata": {
      "needs_background": "light"
     },
     "output_type": "display_data"
    }
   ],
   "source": [
    "filename = 'pBs_2body_decay.txt'\n",
    "q0s = np.loadtxt(filename)\n",
    "\n",
    "fig, axs = plt.subplots(2, 1)\n",
    "\n",
    "# underscore assigned here so that the array is never printed\n",
    "_ = axs[0].hist(q0s, bins=Nbins)\n",
    "axs[0].set_title('Measured Momentum')\n",
    "axs[0].set_xlabel('Momentum (kg*m/s)')\n",
    "axs[0].set_ylabel('Count')\n",
    "\n",
    "plt.tight_layout()\n",
    "\n",
    "for entry in q0s:\n",
    "    mass_c_vals.append(calc_p(entry))\n",
    "print('Mean mass:', np.mean(mass_c_vals), 'kg')\n",
    "print('StDev:', np.std(mass_c_vals), 'kg')\n",
    "\n",
    "# underscore assigned here for same reason as above\n",
    "_ = axs[1].hist(mass_c_vals, bins = Nbins)\n",
    "axs[1].set_title('Calculated Mass C Values')\n",
    "axs[1].set_xlabel('Mass (kg)')\n",
    "axs[1].set_ylabel('Count')\n",
    "\n",
    "plt.tight_layout()\n",
    "\n",
    "plt.savefig('./example_1D.pdf',bbox_inches='tight', transparent=True)\n",
    "plt.show()\n"
   ]
  }
 ],
 "metadata": {
  "kernelspec": {
   "display_name": "Python 3",
   "language": "python",
   "name": "python3"
  },
  "language_info": {
   "codemirror_mode": {
    "name": "ipython",
    "version": 3
   },
   "file_extension": ".py",
   "mimetype": "text/x-python",
   "name": "python",
   "nbconvert_exporter": "python",
   "pygments_lexer": "ipython3",
   "version": "3.7.6"
  }
 },
 "nbformat": 4,
 "nbformat_minor": 4
}
