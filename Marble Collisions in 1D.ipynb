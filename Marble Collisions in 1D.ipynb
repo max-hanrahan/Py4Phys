{
 "cells": [
  {
   "cell_type": "markdown",
   "metadata": {},
   "source": [
    "## Two colliding marbles"
   ]
  },
  {
   "cell_type": "code",
   "execution_count": 25,
   "metadata": {},
   "outputs": [],
   "source": [
    "import math\n",
    "import numpy as np\n",
    "import matplotlib.pyplot as plt"
   ]
  },
  {
   "cell_type": "code",
   "execution_count": 26,
   "metadata": {},
   "outputs": [],
   "source": [
    "# the questions: where do the marbles collide?\n",
    "# and plot the trajectory before/after collision\n",
    "\n",
    "class Marble():\n",
    "    def __init__(self, mass, velocity, init_position, color):\n",
    "        self.mass = mass\n",
    "        self.velocity = velocity\n",
    "        self.position = init_position\n",
    "        self.color = color\n",
    "        \n",
    "    # the getters\n",
    "    def get_mass(self):\n",
    "        return self.mass\n",
    "    def get_speed(self):\n",
    "        return self.velocity\n",
    "    def get_start(self):\n",
    "        return self.position\n",
    "    def get_color(self):\n",
    "        return self.color\n",
    "    \n",
    "    # the purpose of this sole setter is to update the velocity post-collision.\n",
    "    # I can't do that here yet because the equations for that dependent on the\n",
    "    # initial conditions of BOTH marbles, which have yet to be defined\n",
    "    def set_speed(self, new_v):\n",
    "        self.velocity = new_v\n",
    "        \n",
    "# I make the marbles here:\n",
    "blue = Marble(1, 5, 1, 'blue')\n",
    "red = Marble(2, -2, 4, 'red')\n",
    "\n",
    "\n",
    "if red.get_start() < blue.get_start():\n",
    "    left_marb = red\n",
    "    right_marb = blue\n",
    "    # strictly speaking, the else condition could include the edge case that both positions are equal.\n",
    "    # but I'm ignoring that because there'd be no collison, which would be dumb.\n",
    "else:\n",
    "    left_marb = blue\n",
    "    right_marb = red\n",
    "    \n",
    "del_x = abs(blue.get_start() - red.get_start()) # the initial distance between the marbles\n",
    "speed_of_both = abs(blue.get_speed() - red.get_speed()) # the speed each perceives the other to be in its Galilean frame\n",
    "del_t = del_x / speed_of_both # time interval from start to collision\n",
    "\n",
    "collision_point = left_marb.get_start() + left_marb.get_speed() * del_t\n",
    "\n",
    "# there's your first answer!"
   ]
  },
  {
   "cell_type": "code",
   "execution_count": 27,
   "metadata": {},
   "outputs": [],
   "source": [
    "# our next goal is to plot the before and after trajectories. \n",
    "# this function will make a plot for each marble\n",
    "def draw_graph(x,y,xmin,xmax, givencolor):\n",
    "    plt.plot(x, y, markersize = .8, color = givencolor)\n",
    "    plt.xlabel('Time')\n",
    "    plt.ylabel('x-position')\n",
    "    plt.title('Collision')\n",
    "    plt.xlim((xmin, 1.5*xmax))"
   ]
  },
  {
   "cell_type": "code",
   "execution_count": 28,
   "metadata": {
    "scrolled": true
   },
   "outputs": [],
   "source": [
    "# loop over the two marbles, make a nice graph for them both\n",
    "# todo: somehow save the t's and x's as variables I can access later\n",
    "t_list = []\n",
    "x_list = []\n",
    "marble_list = [blue, red]\n",
    "for marble in [blue, red]:\n",
    "    t = np.arange(0.0, del_t, 0.001)\n",
    "    x = marble.get_start() + marble.get_speed()*t\n",
    "    \n",
    "    t_list.append(t)\n",
    "    x_list.append(x)\n",
    "        \n",
    "    # the above code gets the before graph's data. let's get the after:"
   ]
  },
  {
   "cell_type": "code",
   "execution_count": 29,
   "metadata": {},
   "outputs": [],
   "source": [
    "# calculate the after velocity for each marble\n",
    "after_v_r = blue.get_speed()*(2*blue.get_mass()/(blue.get_mass() + red.get_mass())) + red.get_speed()*(red.get_mass() - blue.get_mass())/(blue.get_mass()+red.get_mass())\n",
    "after_v_b = red.get_speed()*(2*red.get_mass()/(blue.get_mass() + red.get_mass())) + blue.get_speed()*(blue.get_mass() - red.get_mass())/(blue.get_mass()+red.get_mass())\n",
    "\n",
    "# set the speed to appropriate post-collision value\n",
    "red.set_speed(after_v_r)\n",
    "blue.set_speed(after_v_b)"
   ]
  },
  {
   "cell_type": "code",
   "execution_count": 30,
   "metadata": {
    "scrolled": true
   },
   "outputs": [
    {
     "data": {
      "image/png": "[encoded data removed]",
      "text/plain": [
       "<Figure size 432x288 with 1 Axes>"
      ]
     },
     "metadata": {
      "needs_background": "light"
     },
     "output_type": "display_data"
    }
   ],
   "source": [
    "# the ultimate goal should be to make these into one pretty plot\n",
    "# to this end, we want to append the new data to the graph's old data\n",
    "# todo: figure out a way to do that ^\n",
    "for i in range(2):\n",
    "    new_t_data = np.arange(del_t, 2.5*del_t, 0.001)\n",
    "    new_x_data = collision_point + marble_list[i].get_speed() * (new_t_data - del_t)\n",
    "    \n",
    "    # draw the first graph\n",
    "    draw_graph(t_list[i], x_list[i], 0, del_t, marble_list[i].get_color()) \n",
    "    # draw the second graph\n",
    "    draw_graph(new_t_data, new_x_data, 0, 2*del_t, marble_list[i].get_color())\n",
    "    "
   ]
  }
 ],
 "metadata": {
  "kernelspec": {
   "display_name": "Python 3",
   "language": "python",
   "name": "python3"
  },
  "language_info": {
   "codemirror_mode": {
    "name": "ipython",
    "version": 3
   },
   "file_extension": ".py",
   "mimetype": "text/x-python",
   "name": "python",
   "nbconvert_exporter": "python",
   "pygments_lexer": "ipython3",
   "version": "3.7.6"
  }
 },
 "nbformat": 4,
 "nbformat_minor": 4
}
